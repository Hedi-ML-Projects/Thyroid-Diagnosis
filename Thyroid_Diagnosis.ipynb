{
 "cells": [
  {
   "cell_type": "markdown",
   "metadata": {},
   "source": [
    "# Thyroid Diagnosis:\n",
    "\n",
    "The purpose of this project is to distinguish between Hyperthyroid, Hypothyroid and Negative groups based on the provided data.The data is called Thyroid which is available in the UCI machine learning repository. "
   ]
  },
  {
   "cell_type": "markdown",
   "metadata": {},
   "source": [
    "**Importing the Data:**"
   ]
  },
  {
   "cell_type": "code",
   "execution_count": 1,
   "metadata": {},
   "outputs": [],
   "source": [
    "import pandas as pd\n",
    "import numpy as np\n",
    "import matplotlib.pyplot as plt"
   ]
  },
  {
   "cell_type": "code",
   "execution_count": 2,
   "metadata": {},
   "outputs": [],
   "source": [
    "allhyper=pd.read_csv('./allhyper/allhyper_data.csv')\n",
    "allhypo=pd.read_csv('./allhypo/allhypo_data.csv')"
   ]
  },
  {
   "cell_type": "code",
   "execution_count": 3,
   "metadata": {},
   "outputs": [
    {
     "name": "stdout",
     "output_type": "stream",
     "text": [
      "allhyper shape: (2800, 30)\n",
      "allhypo shape: (2800, 30)\n"
     ]
    }
   ],
   "source": [
    "print(\"allhyper shape:\",allhyper.shape)\n",
    "print(\"allhypo shape:\", allhypo.shape)"
   ]
  },
  {
   "cell_type": "code",
   "execution_count": 4,
   "metadata": {},
   "outputs": [
    {
     "name": "stdout",
     "output_type": "stream",
     "text": [
      "Index(['age', 'sex', 'on thyroxine', 'query on thyroxine',\n",
      "       'on antithyroid medication', 'sick', 'pregnant', 'thyroid surgery',\n",
      "       'I131 treatment', 'query hypothyroid', 'query hyperthyroid', 'lithium',\n",
      "       'goitre', 'tumor', 'hypopituitary', 'psych', 'TSH measured', 'TSH',\n",
      "       'T3 measured', 'T3', 'TT4 measured', 'TT4', 'T4U measured', 'T4U',\n",
      "       'FTI measured', 'FTI', 'TBG measured', 'TBG', 'referral source',\n",
      "       'label'],\n",
      "      dtype='object')\n"
     ]
    }
   ],
   "source": [
    "print(allhypo.columns)"
   ]
  },
  {
   "cell_type": "code",
   "execution_count": 5,
   "metadata": {},
   "outputs": [
    {
     "name": "stdout",
     "output_type": "stream",
     "text": [
      "Index(['age', 'sex', 'on thyroxine', 'query on thyroxine',\n",
      "       'on antithyroid medication', 'sick', 'pregnant', 'thyroid surgery',\n",
      "       'I131 treatment', 'query hypothyroid', 'query hyperthyroid', 'lithium',\n",
      "       'goitre', 'tumor', 'hypopituitary', 'psych', 'TSH measured', 'TSH',\n",
      "       'T3 measured', 'T3', 'TT4 measured', 'TT4', 'T4U measured', 'T4U',\n",
      "       'FTI measured', 'FTI', 'TBG measured', 'TBG', 'referral source',\n",
      "       'label'],\n",
      "      dtype='object')\n"
     ]
    }
   ],
   "source": [
    "print(allhyper.columns)"
   ]
  },
  {
   "cell_type": "markdown",
   "metadata": {},
   "source": [
    "**Data Cleaning:**"
   ]
  },
  {
   "cell_type": "code",
   "execution_count": 6,
   "metadata": {},
   "outputs": [],
   "source": [
    "# Cleaning the category column\n",
    "allhyper['label']=allhyper['label'].str.split('.').apply(lambda x:x[0])# selecting the str before the '.', then choose the first element"
   ]
  },
  {
   "cell_type": "code",
   "execution_count": 7,
   "metadata": {},
   "outputs": [],
   "source": [
    "# Cleaning the category column\n",
    "allhypo['label']=allhypo['label'].str.split('.').apply(lambda x:x[0])# selecting the str before the '.', then choose the first element"
   ]
  },
  {
   "cell_type": "code",
   "execution_count": 8,
   "metadata": {},
   "outputs": [
    {
     "data": {
      "text/plain": [
       "array(['negative', 'hyperthyroid', 'T3 toxic', 'goitre'], dtype=object)"
      ]
     },
     "execution_count": 8,
     "metadata": {},
     "output_type": "execute_result"
    }
   ],
   "source": [
    "allhyper['label'].unique()"
   ]
  },
  {
   "cell_type": "code",
   "execution_count": 9,
   "metadata": {},
   "outputs": [
    {
     "data": {
      "text/plain": [
       "array(['negative', 'compensated hypothyroid', 'primary hypothyroid',\n",
       "       'secondary hypothyroid'], dtype=object)"
      ]
     },
     "execution_count": 9,
     "metadata": {},
     "output_type": "execute_result"
    }
   ],
   "source": [
    "allhypo['label'].unique()"
   ]
  },
  {
   "cell_type": "markdown",
   "metadata": {},
   "source": [
    "The unique() values of allhypo and allhyper data indicate that different types of hyperthyroid and hypothyroid exist among the participant. As the main goal of this research is to distinguish between hyperthyroid, hypothyroid and Negative, the types of each disease do not matter."
   ]
  },
  {
   "cell_type": "code",
   "execution_count": 10,
   "metadata": {},
   "outputs": [],
   "source": [
    "allhyper['label']=allhyper['label'].apply(lambda x:'hyperthyroid' if (x!='negative') else 'negative')# apply a funtion to\n",
    "#allhyper['label' ] by which the label will be set to 'hyperthyroid' if it is not 'negative'."
   ]
  },
  {
   "cell_type": "code",
   "execution_count": 11,
   "metadata": {},
   "outputs": [],
   "source": [
    "allhypo['label']=allhypo['label'].apply(lambda x:'hypothyroid' if (x!='negative') else 'negative')# apply a funtion to\n",
    "#allhyo['label' ] by which the label will be set to 'hypothyroid' if it is not 'negative'."
   ]
  },
  {
   "cell_type": "code",
   "execution_count": 12,
   "metadata": {},
   "outputs": [],
   "source": [
    "# Integrate the allhyper and allhypo data into a new data frame\n",
    "# The allhyper and allhypo data frames are exactly the same except the 'label' column!\n",
    "feature_list=allhyper.columns.tolist()\n",
    "feature_list.remove('label')\n",
    "data=allhyper[feature_list].copy()# creating a copy of allhyper dataframe (the feature columns)\n",
    "# Creating a label column for the data\n",
    "for i in range(len(data)):\n",
    "    if allhyper.loc[i,'label']=='hyperthyroid':\n",
    "        data.loc[i,'label']='hyperthyroid'\n",
    "    elif allhypo.loc[i,'label']=='hypothyroid':\n",
    "        data.loc[i,'label']='hypothyroid'\n",
    "    else:\n",
    "        data.loc[i,'label']='negative'   "
   ]
  },
  {
   "cell_type": "code",
   "execution_count": 13,
   "metadata": {},
   "outputs": [
    {
     "data": {
      "text/html": [
       "<div>\n",
       "<style scoped>\n",
       "    .dataframe tbody tr th:only-of-type {\n",
       "        vertical-align: middle;\n",
       "    }\n",
       "\n",
       "    .dataframe tbody tr th {\n",
       "        vertical-align: top;\n",
       "    }\n",
       "\n",
       "    .dataframe thead th {\n",
       "        text-align: right;\n",
       "    }\n",
       "</style>\n",
       "<table border=\"1\" class=\"dataframe\">\n",
       "  <thead>\n",
       "    <tr style=\"text-align: right;\">\n",
       "      <th></th>\n",
       "      <th>age</th>\n",
       "      <th>sex</th>\n",
       "      <th>on thyroxine</th>\n",
       "      <th>query on thyroxine</th>\n",
       "      <th>on antithyroid medication</th>\n",
       "      <th>sick</th>\n",
       "      <th>pregnant</th>\n",
       "      <th>thyroid surgery</th>\n",
       "      <th>I131 treatment</th>\n",
       "      <th>query hypothyroid</th>\n",
       "      <th>...</th>\n",
       "      <th>TT4 measured</th>\n",
       "      <th>TT4</th>\n",
       "      <th>T4U measured</th>\n",
       "      <th>T4U</th>\n",
       "      <th>FTI measured</th>\n",
       "      <th>FTI</th>\n",
       "      <th>TBG measured</th>\n",
       "      <th>TBG</th>\n",
       "      <th>referral source</th>\n",
       "      <th>label</th>\n",
       "    </tr>\n",
       "  </thead>\n",
       "  <tbody>\n",
       "    <tr>\n",
       "      <th>0</th>\n",
       "      <td>41</td>\n",
       "      <td>F</td>\n",
       "      <td>f</td>\n",
       "      <td>f</td>\n",
       "      <td>f</td>\n",
       "      <td>f</td>\n",
       "      <td>f</td>\n",
       "      <td>f</td>\n",
       "      <td>f</td>\n",
       "      <td>f</td>\n",
       "      <td>...</td>\n",
       "      <td>t</td>\n",
       "      <td>125</td>\n",
       "      <td>t</td>\n",
       "      <td>1.14</td>\n",
       "      <td>t</td>\n",
       "      <td>109</td>\n",
       "      <td>f</td>\n",
       "      <td>?</td>\n",
       "      <td>SVHC</td>\n",
       "      <td>negative</td>\n",
       "    </tr>\n",
       "    <tr>\n",
       "      <th>1</th>\n",
       "      <td>23</td>\n",
       "      <td>F</td>\n",
       "      <td>f</td>\n",
       "      <td>f</td>\n",
       "      <td>f</td>\n",
       "      <td>f</td>\n",
       "      <td>f</td>\n",
       "      <td>f</td>\n",
       "      <td>f</td>\n",
       "      <td>f</td>\n",
       "      <td>...</td>\n",
       "      <td>t</td>\n",
       "      <td>102</td>\n",
       "      <td>f</td>\n",
       "      <td>?</td>\n",
       "      <td>f</td>\n",
       "      <td>?</td>\n",
       "      <td>f</td>\n",
       "      <td>?</td>\n",
       "      <td>other</td>\n",
       "      <td>negative</td>\n",
       "    </tr>\n",
       "    <tr>\n",
       "      <th>2</th>\n",
       "      <td>46</td>\n",
       "      <td>M</td>\n",
       "      <td>f</td>\n",
       "      <td>f</td>\n",
       "      <td>f</td>\n",
       "      <td>f</td>\n",
       "      <td>f</td>\n",
       "      <td>f</td>\n",
       "      <td>f</td>\n",
       "      <td>f</td>\n",
       "      <td>...</td>\n",
       "      <td>t</td>\n",
       "      <td>109</td>\n",
       "      <td>t</td>\n",
       "      <td>0.91</td>\n",
       "      <td>t</td>\n",
       "      <td>120</td>\n",
       "      <td>f</td>\n",
       "      <td>?</td>\n",
       "      <td>other</td>\n",
       "      <td>negative</td>\n",
       "    </tr>\n",
       "    <tr>\n",
       "      <th>3</th>\n",
       "      <td>70</td>\n",
       "      <td>F</td>\n",
       "      <td>t</td>\n",
       "      <td>f</td>\n",
       "      <td>f</td>\n",
       "      <td>f</td>\n",
       "      <td>f</td>\n",
       "      <td>f</td>\n",
       "      <td>f</td>\n",
       "      <td>f</td>\n",
       "      <td>...</td>\n",
       "      <td>t</td>\n",
       "      <td>175</td>\n",
       "      <td>f</td>\n",
       "      <td>?</td>\n",
       "      <td>f</td>\n",
       "      <td>?</td>\n",
       "      <td>f</td>\n",
       "      <td>?</td>\n",
       "      <td>other</td>\n",
       "      <td>negative</td>\n",
       "    </tr>\n",
       "    <tr>\n",
       "      <th>4</th>\n",
       "      <td>70</td>\n",
       "      <td>F</td>\n",
       "      <td>f</td>\n",
       "      <td>f</td>\n",
       "      <td>f</td>\n",
       "      <td>f</td>\n",
       "      <td>f</td>\n",
       "      <td>f</td>\n",
       "      <td>f</td>\n",
       "      <td>f</td>\n",
       "      <td>...</td>\n",
       "      <td>t</td>\n",
       "      <td>61</td>\n",
       "      <td>t</td>\n",
       "      <td>0.87</td>\n",
       "      <td>t</td>\n",
       "      <td>70</td>\n",
       "      <td>f</td>\n",
       "      <td>?</td>\n",
       "      <td>SVI</td>\n",
       "      <td>negative</td>\n",
       "    </tr>\n",
       "  </tbody>\n",
       "</table>\n",
       "<p>5 rows × 30 columns</p>\n",
       "</div>"
      ],
      "text/plain": [
       "  age sex on thyroxine query on thyroxine on antithyroid medication sick  \\\n",
       "0  41   F            f                  f                         f    f   \n",
       "1  23   F            f                  f                         f    f   \n",
       "2  46   M            f                  f                         f    f   \n",
       "3  70   F            t                  f                         f    f   \n",
       "4  70   F            f                  f                         f    f   \n",
       "\n",
       "  pregnant thyroid surgery I131 treatment query hypothyroid  ... TT4 measured  \\\n",
       "0        f               f              f                 f  ...            t   \n",
       "1        f               f              f                 f  ...            t   \n",
       "2        f               f              f                 f  ...            t   \n",
       "3        f               f              f                 f  ...            t   \n",
       "4        f               f              f                 f  ...            t   \n",
       "\n",
       "   TT4 T4U measured   T4U FTI measured  FTI TBG measured TBG referral source  \\\n",
       "0  125            t  1.14            t  109            f   ?            SVHC   \n",
       "1  102            f     ?            f    ?            f   ?           other   \n",
       "2  109            t  0.91            t  120            f   ?           other   \n",
       "3  175            f     ?            f    ?            f   ?           other   \n",
       "4   61            t  0.87            t   70            f   ?             SVI   \n",
       "\n",
       "      label  \n",
       "0  negative  \n",
       "1  negative  \n",
       "2  negative  \n",
       "3  negative  \n",
       "4  negative  \n",
       "\n",
       "[5 rows x 30 columns]"
      ]
     },
     "execution_count": 13,
     "metadata": {},
     "output_type": "execute_result"
    }
   ],
   "source": [
    "data.head()"
   ]
  },
  {
   "cell_type": "code",
   "execution_count": 14,
   "metadata": {},
   "outputs": [
    {
     "data": {
      "text/plain": [
       "negative        2503\n",
       "hypothyroid      220\n",
       "hyperthyroid      77\n",
       "Name: label, dtype: int64"
      ]
     },
     "execution_count": 14,
     "metadata": {},
     "output_type": "execute_result"
    }
   ],
   "source": [
    "data.label.value_counts()"
   ]
  },
  {
   "cell_type": "code",
   "execution_count": 15,
   "metadata": {},
   "outputs": [
    {
     "data": {
      "text/plain": [
       "(2800, 30)"
      ]
     },
     "execution_count": 15,
     "metadata": {},
     "output_type": "execute_result"
    }
   ],
   "source": [
    "data.shape"
   ]
  },
  {
   "cell_type": "code",
   "execution_count": 16,
   "metadata": {},
   "outputs": [
    {
     "name": "stdout",
     "output_type": "stream",
     "text": [
      "age : ['41', '23', '46', '70', '18', '59', '80', '66', '68', '84', '67', '71', '28', '65', '42', '63', '51', '81', '54', '55', '60', '25', '73', '34', '78', '37', '85', '26', '58', '64', '44', '48', '61', '35', '83', '21', '87', '53', '77', '27', '69', '74', '38', '76', '45', '36', '22', '43', '72', '82', '31', '39', '49', '62', '57', '1', '50', '30', '29', '75', '19', '7', '79', '17', '24', '15', '32', '47', '16', '52', '33', '13', '10', '89', '56', '20', '90', '40', '88', '14', '86', '94', '12', '4', '11', '8', '5', '455', '2', '91', '6', '?', '93', '92']\n",
      "sex : ['F', 'M', '?']\n",
      "on thyroxine : ['f', 't']\n",
      "query on thyroxine : ['f', 't']\n",
      "on antithyroid medication : ['f', 't']\n",
      "sick : ['f', 't']\n",
      "pregnant : ['f', 't']\n",
      "thyroid surgery : ['f', 't']\n",
      "I131 treatment : ['f', 't']\n",
      "query hypothyroid : ['f', 't']\n",
      "query hyperthyroid : ['f', 't']\n",
      "lithium : ['f', 't']\n",
      "goitre : ['f', 't']\n",
      "tumor : ['f', 't']\n",
      "hypopituitary : ['f', 't']\n",
      "psych : ['f', 't']\n",
      "TSH measured : ['t', 'f']\n",
      "TSH : ['1.3', '4.1', '0.98', '0.16', '0.72', '0.03', '?', '2.2', '0.6', '2.4', '1.1', '2.8', '3.3', '12', '1.2', '1.5', '6', '2.1', '0.1', '0.8', '1.9', '3.1', '0.2', '13', '0.3', '0.035', '2.5', '0.5', '1.7', '7.3', '1.8', '0.26', '45', '5.4', '0.99', '0.25', '0.92', '0.15', '0.64', '1', '0.4', '2', '2.6', '14.8', '15', '19', '0.02', '3', '2.9', '3.2', '9', '1.6', '4.3', '0.005', '0.31', '0.61', '0.05', '7.8', '160', '0.025', '1.4', '0.01', '8.8', '151', '0.04', '3.9', '9.4', '2.7', '2.3', '0.94', '0.045', '3.5', '0.88', '0.08', '4.5', '0.68', '0.7', '0.67', '27', '6.1', '0.75', '0.55', '26', '5.2', '0.77', '0.07', '0.9', '11.4', '143', '0.45', '0.57', '0.65', '0.015', '16', '108', '0.83', '9.2', '86', '0.62', '0.59', '9.1', '5.9', '52', '0.33', '31', '5.8', '0.28', '51', '6.3', '4.4', '9.6', '3.4', '0.09', '24', '0.76', '42', '25', '10', '4.6', '8.6', '0.66', '6.2', '0.79', '28', '0.86', '9.7', '0.84', '17', '18', '55', '14', '3.7', '0.87', '6.7', '0.74', '7.6', '0.065', '0.29', '0.37', '8', '11', '0.48', '44', '7.9', '5', '7.2', '0.89', '0.93', '0.97', '0.12', '6.4', '33', '0.85', '7.1', '0.73', '199', '8.2', '188', '0.22', '98', '22', '6.6', '5.1', '0.06', '0.42', '3.8', '35', '4', '0.78', '0.63', '0.52', '60', '0.43', '5.6', '6.9', '3.6', '29', '0.38', '4.9', '0.41', '9.9', '7.5', '34', '6.5', '4.7', '103', '0.95', '0.14', '0.35', '4.2', '0.81', '0.54', '0.58', '8.9', '5.5', '0.34', '9.3', '0.13', '54', '0.39', '8.3', '478', '21', '6.8', '0.32', '0.23', '0.24', '8.1', '0.91', '5.3', '100', '0.27', '1.01', '58', '41', '183', '18.4', '0.47', '0.17', '12.1', '0.19', '0.82', '43', '0.44', '70', '7.7', '8.4', '0.69', '8.5', '0.21', '82', '0.055', '0.96', '0.71', '38', '0.36', '9.8', '7', '0.46', '11.1', '39', '76', '5.7', '32', '126', '26.4', '0.53', '0.49', '36', '178', '145', '47', '4.8', '10.3', '89', '7.4', '472', '0.51', '116', '61', '99', '46', '78', '468']\n",
      "T3 measured : ['t', 'f']\n",
      "T3 : ['2.5', '2', '?', '1.9', '1.2', '0.6', '2.2', '1.6', '3.8', '1.7', '1.8', '2.6', '2.1', '0.3', '5.5', '1.4', '3.1', '1.5', '2.3', '2.4', '2.7', '0.9', '1', '2.8', '2.9', '0.8', '1.3', '0.4', '3.3', '3.5', '3.4', '1.1', '4.2', '3.7', '3', '0.7', '4.8', '4.3', '0.05', '3.2', '5.4', '4', '0.5', '0.2', '3.6', '5.2', '5', '6', '5.3', '3.9', '4.6', '4.5', '7.3', '4.7', '6.7', '4.1', '6.1', '0.1', '4.9', '10.6', '5.1', '7', '6.2', '4.4', '7.1']\n",
      "TT4 measured : ['t', 'f']\n",
      "TT4 : ['125', '102', '109', '175', '61', '183', '72', '80', '123', '83', '115', '152', '171', '97', '99', '70', '117', '121', '130', '108', '104', '134', '199', '57', '129', '113', '119', '84', '81', '95', '66', '101', '147', '120', '69', '?', '39', '87', '63', '133', '86', '163', '162', '103', '96', '151', '112', '82', '138', '71', '77', '93', '107', '237', '110', '67', '88', '160', '118', '136', '114', '116', '94', '161', '11', '32', '124', '137', '92', '135', '105', '150', '126', '146', '91', '217', '141', '159', '122', '100', '111', '140', '205', '225', '85', '90', '74', '219', '127', '132', '128', '106', '144', '131', '56', '79', '142', '98', '177', '139', '78', '189', '180', '73', '145', '184', '38', '156', '75', '148', '14', '76', '54', '58', '27', '65', '193', '13', '143', '12', '64', '257', '164', '59', '167', '18', '41', '176', '37', '33', '44', '45', '154', '174', '203', '244', '62', '158', '60', '187', '250', '181', '157', '223', '272', '166', '213', '235', '10', '68', '231', '191', '48', '5.8', '169', '149', '210', '40', '155', '232', '42', '204', '430', '198', '230', '15', '170', '165', '47', '168', '194', '89', '52', '179', '192', '172', '4.8', '50', '182', '197', '214', '246', '196', '207', '19', '153', '22', '46', '200', '35', '226', '201', '233', '206', '31', '255', '178', '239', '195', '6', '36', '2', '3', '289', '240', '209', '43', '34', '252', '29', '263', '301', '23', '188', '211', '253', '21', '173']\n",
      "T4U measured : ['t', 'f']\n",
      "T4U : ['1.14', '?', '0.91', '0.87', '1.3', '0.92', '0.7', '0.93', '0.89', '0.95', '0.99', '1.13', '0.86', '0.96', '0.94', '0.9', '1.02', '1.05', '0.62', '1.06', '1.55', '0.83', '1.09', '1.07', '1.27', '0.76', '1.16', '1', '0.56', '0.81', '0.68', '0.78', '0.85', '1.35', '1.15', '0.82', '1.03', '1.58', '0.79', '1.17', '0.71', '0.72', '0.88', '1.11', '1.2', '1.1', '1.33', '0.77', '1.24', '0.53', '1.44', '1.63', '1.51', '1.42', '1.23', '1.01', '0.98', '0.61', '1.12', '1.43', '1.25', '1.41', '1.68', '0.97', '0.84', '0.8', '1.04', '0.73', '1.08', '1.26', '1.46', '1.29', '1.34', '1.66', '1.21', '1.19', '0.75', '0.52', '1.83', '1.39', '1.5', '1.93', '1.18', '0.74', '0.58', '1.82', '0.6', '1.67', '1.22', '0.66', '0.67', '1.31', '0.54', '1.77', '1.59', '1.97', '1.69', '1.38', '1.28', '1.4', '0.69', '0.65', '1.74', '2.03', '1.73', '1.65', '1.36', '1.52', '0.57', '1.53', '1.84', '1.57', '1.75', '1.32', '1.37', '0.64', '1.79', '1.8', '0.48', '1.71', '1.62', '1.76', '1.56', '1.48', '0.59', '0.31', '1.94', '2.12', '1.47', '0.63', '0.944', '0.49', '1.88', '0.5', '0.38', '1.49', '0.41', '1.61', '1.7']\n",
      "FTI measured : ['t', 'f']\n",
      "FTI : ['109', '?', '120', '70', '141', '78', '115', '132', '93', '121', '153', '151', '107', '119', '87', '81', '104', '130', '106', '116', '131', '190', '92', '102', '76', '98', '90', '61', '94', '129', '95', '91', '33', '113', '148', '140', '171', '155', '186', '122', '136', '110', '111', '97', '72', '100', '88', '67', '84', '103', '135', '203', '112', '117', '180', '142', '145', '156', '96', '134', '8.9', '60', '139', '41', '99', '89', '146', '124', '105', '85', '157', '143', '71', '221', '28', '108', '137', '83', '74', '170', '65', '101', '127', '274', '154', '114', '62', '86', '126', '125', '64', '172', '162', '79', '118', '73', '152', '163', '149', '14', '51', '165', '77', '32', '69', '80', '11', '54', '164', '123', '144', '10', '214', '200', '160', '53', '16', '138', '169', '56', '47', '133', '43', '68', '179', '224', '220', '82', '362', '182', '75', '66', '161', '57', '58', '312', '63', '128', '147', '158', '281', '207', '216', '251', '194', '46', '7', '42', '174', '395', '185', '13', '201', '48', '173', '167', '188', '150', '235', '175', '159', '5.4', '189', '59', '166', '34', '228', '232', '217', '177', '176', '195', '219', '17', '210', '168', '205', '39', '187', '50', '349', '52', '206', '253', '242', '244', '213', '178', '247', '215', '198', '19', '237', '37', '7.6', '24', '2', '3', '191', '223', '9', '29', '222', '204', '26', '218', '197', '49', '209', '183']\n",
      "TBG measured : ['f']\n",
      "TBG : ['?']\n",
      "referral source : ['SVHC', 'other', 'SVI', 'STMW', 'SVHD']\n"
     ]
    }
   ],
   "source": [
    "# Check the columns for data cleaning\n",
    "for col in data:\n",
    "    if col!='label':\n",
    "        print (col,':',allhyper[col].unique().tolist())"
   ]
  },
  {
   "cell_type": "code",
   "execution_count": 17,
   "metadata": {},
   "outputs": [],
   "source": [
    "# Deleting some columns:\n",
    "del data['TBG']\n",
    "del data['TBG measured']\n",
    "del data['referral source']"
   ]
  },
  {
   "cell_type": "code",
   "execution_count": 18,
   "metadata": {},
   "outputs": [],
   "source": [
    "# Solve a small mistake\n",
    "data.loc[data['age']=='455','age']='45'"
   ]
  },
  {
   "cell_type": "code",
   "execution_count": 19,
   "metadata": {},
   "outputs": [],
   "source": [
    "# Encoding the categorical columns:\n",
    "from sklearn import preprocessing\n",
    "encoding_list=['on thyroxine', 'query on thyroxine','on antithyroid medication', 'sick', 'pregnant', 'thyroid surgery',\n",
    "       'I131 treatment', 'query hypothyroid', 'query hyperthyroid', 'lithium','goitre', 'tumor', 'hypopituitary', 'psych',\n",
    "        'TSH measured','T3 measured','TT4 measured','T4U measured','FTI measured']\n",
    "# Label the data:\n",
    "le = preprocessing.LabelEncoder()# define an encoder\n",
    "for col in encoding_list:\n",
    "    data[col]=le.fit_transform(data[col])"
   ]
  },
  {
   "cell_type": "code",
   "execution_count": 20,
   "metadata": {},
   "outputs": [
    {
     "data": {
      "text/html": [
       "<div>\n",
       "<style scoped>\n",
       "    .dataframe tbody tr th:only-of-type {\n",
       "        vertical-align: middle;\n",
       "    }\n",
       "\n",
       "    .dataframe tbody tr th {\n",
       "        vertical-align: top;\n",
       "    }\n",
       "\n",
       "    .dataframe thead th {\n",
       "        text-align: right;\n",
       "    }\n",
       "</style>\n",
       "<table border=\"1\" class=\"dataframe\">\n",
       "  <thead>\n",
       "    <tr style=\"text-align: right;\">\n",
       "      <th></th>\n",
       "      <th>age</th>\n",
       "      <th>sex</th>\n",
       "      <th>on thyroxine</th>\n",
       "      <th>query on thyroxine</th>\n",
       "      <th>on antithyroid medication</th>\n",
       "      <th>sick</th>\n",
       "      <th>pregnant</th>\n",
       "      <th>thyroid surgery</th>\n",
       "      <th>I131 treatment</th>\n",
       "      <th>query hypothyroid</th>\n",
       "      <th>...</th>\n",
       "      <th>TSH</th>\n",
       "      <th>T3 measured</th>\n",
       "      <th>T3</th>\n",
       "      <th>TT4 measured</th>\n",
       "      <th>TT4</th>\n",
       "      <th>T4U measured</th>\n",
       "      <th>T4U</th>\n",
       "      <th>FTI measured</th>\n",
       "      <th>FTI</th>\n",
       "      <th>label</th>\n",
       "    </tr>\n",
       "  </thead>\n",
       "  <tbody>\n",
       "    <tr>\n",
       "      <th>0</th>\n",
       "      <td>41</td>\n",
       "      <td>F</td>\n",
       "      <td>0</td>\n",
       "      <td>0</td>\n",
       "      <td>0</td>\n",
       "      <td>0</td>\n",
       "      <td>0</td>\n",
       "      <td>0</td>\n",
       "      <td>0</td>\n",
       "      <td>0</td>\n",
       "      <td>...</td>\n",
       "      <td>1.3</td>\n",
       "      <td>1</td>\n",
       "      <td>2.5</td>\n",
       "      <td>1</td>\n",
       "      <td>125</td>\n",
       "      <td>1</td>\n",
       "      <td>1.14</td>\n",
       "      <td>1</td>\n",
       "      <td>109</td>\n",
       "      <td>negative</td>\n",
       "    </tr>\n",
       "    <tr>\n",
       "      <th>1</th>\n",
       "      <td>23</td>\n",
       "      <td>F</td>\n",
       "      <td>0</td>\n",
       "      <td>0</td>\n",
       "      <td>0</td>\n",
       "      <td>0</td>\n",
       "      <td>0</td>\n",
       "      <td>0</td>\n",
       "      <td>0</td>\n",
       "      <td>0</td>\n",
       "      <td>...</td>\n",
       "      <td>4.1</td>\n",
       "      <td>1</td>\n",
       "      <td>2</td>\n",
       "      <td>1</td>\n",
       "      <td>102</td>\n",
       "      <td>0</td>\n",
       "      <td>?</td>\n",
       "      <td>0</td>\n",
       "      <td>?</td>\n",
       "      <td>negative</td>\n",
       "    </tr>\n",
       "    <tr>\n",
       "      <th>2</th>\n",
       "      <td>46</td>\n",
       "      <td>M</td>\n",
       "      <td>0</td>\n",
       "      <td>0</td>\n",
       "      <td>0</td>\n",
       "      <td>0</td>\n",
       "      <td>0</td>\n",
       "      <td>0</td>\n",
       "      <td>0</td>\n",
       "      <td>0</td>\n",
       "      <td>...</td>\n",
       "      <td>0.98</td>\n",
       "      <td>0</td>\n",
       "      <td>?</td>\n",
       "      <td>1</td>\n",
       "      <td>109</td>\n",
       "      <td>1</td>\n",
       "      <td>0.91</td>\n",
       "      <td>1</td>\n",
       "      <td>120</td>\n",
       "      <td>negative</td>\n",
       "    </tr>\n",
       "    <tr>\n",
       "      <th>3</th>\n",
       "      <td>70</td>\n",
       "      <td>F</td>\n",
       "      <td>1</td>\n",
       "      <td>0</td>\n",
       "      <td>0</td>\n",
       "      <td>0</td>\n",
       "      <td>0</td>\n",
       "      <td>0</td>\n",
       "      <td>0</td>\n",
       "      <td>0</td>\n",
       "      <td>...</td>\n",
       "      <td>0.16</td>\n",
       "      <td>1</td>\n",
       "      <td>1.9</td>\n",
       "      <td>1</td>\n",
       "      <td>175</td>\n",
       "      <td>0</td>\n",
       "      <td>?</td>\n",
       "      <td>0</td>\n",
       "      <td>?</td>\n",
       "      <td>negative</td>\n",
       "    </tr>\n",
       "    <tr>\n",
       "      <th>4</th>\n",
       "      <td>70</td>\n",
       "      <td>F</td>\n",
       "      <td>0</td>\n",
       "      <td>0</td>\n",
       "      <td>0</td>\n",
       "      <td>0</td>\n",
       "      <td>0</td>\n",
       "      <td>0</td>\n",
       "      <td>0</td>\n",
       "      <td>0</td>\n",
       "      <td>...</td>\n",
       "      <td>0.72</td>\n",
       "      <td>1</td>\n",
       "      <td>1.2</td>\n",
       "      <td>1</td>\n",
       "      <td>61</td>\n",
       "      <td>1</td>\n",
       "      <td>0.87</td>\n",
       "      <td>1</td>\n",
       "      <td>70</td>\n",
       "      <td>negative</td>\n",
       "    </tr>\n",
       "  </tbody>\n",
       "</table>\n",
       "<p>5 rows × 27 columns</p>\n",
       "</div>"
      ],
      "text/plain": [
       "  age sex  on thyroxine  query on thyroxine  on antithyroid medication  sick  \\\n",
       "0  41   F             0                   0                          0     0   \n",
       "1  23   F             0                   0                          0     0   \n",
       "2  46   M             0                   0                          0     0   \n",
       "3  70   F             1                   0                          0     0   \n",
       "4  70   F             0                   0                          0     0   \n",
       "\n",
       "   pregnant  thyroid surgery  I131 treatment  query hypothyroid  ...   TSH  \\\n",
       "0         0                0               0                  0  ...   1.3   \n",
       "1         0                0               0                  0  ...   4.1   \n",
       "2         0                0               0                  0  ...  0.98   \n",
       "3         0                0               0                  0  ...  0.16   \n",
       "4         0                0               0                  0  ...  0.72   \n",
       "\n",
       "   T3 measured   T3  TT4 measured  TT4  T4U measured   T4U FTI measured  FTI  \\\n",
       "0            1  2.5             1  125             1  1.14            1  109   \n",
       "1            1    2             1  102             0     ?            0    ?   \n",
       "2            0    ?             1  109             1  0.91            1  120   \n",
       "3            1  1.9             1  175             0     ?            0    ?   \n",
       "4            1  1.2             1   61             1  0.87            1   70   \n",
       "\n",
       "      label  \n",
       "0  negative  \n",
       "1  negative  \n",
       "2  negative  \n",
       "3  negative  \n",
       "4  negative  \n",
       "\n",
       "[5 rows x 27 columns]"
      ]
     },
     "execution_count": 20,
     "metadata": {},
     "output_type": "execute_result"
    }
   ],
   "source": [
    "data.head()"
   ]
  },
  {
   "cell_type": "code",
   "execution_count": 21,
   "metadata": {},
   "outputs": [],
   "source": [
    "# Cleaning the numeric columns:\n",
    "numeric_features=['age','TSH','T3','TT4','T4U','FTI']\n",
    "for col in numeric_features:\n",
    "    data[col]=data[col].replace('?',np.nan)\n",
    "data[numeric_features]=data[numeric_features].apply(pd.to_numeric)# Change the strings to numeric values"
   ]
  },
  {
   "cell_type": "code",
   "execution_count": 22,
   "metadata": {},
   "outputs": [
    {
     "data": {
      "text/html": [
       "<div>\n",
       "<style scoped>\n",
       "    .dataframe tbody tr th:only-of-type {\n",
       "        vertical-align: middle;\n",
       "    }\n",
       "\n",
       "    .dataframe tbody tr th {\n",
       "        vertical-align: top;\n",
       "    }\n",
       "\n",
       "    .dataframe thead th {\n",
       "        text-align: right;\n",
       "    }\n",
       "</style>\n",
       "<table border=\"1\" class=\"dataframe\">\n",
       "  <thead>\n",
       "    <tr style=\"text-align: right;\">\n",
       "      <th></th>\n",
       "      <th>age</th>\n",
       "      <th>sex</th>\n",
       "      <th>on thyroxine</th>\n",
       "      <th>query on thyroxine</th>\n",
       "      <th>on antithyroid medication</th>\n",
       "      <th>sick</th>\n",
       "      <th>pregnant</th>\n",
       "      <th>thyroid surgery</th>\n",
       "      <th>I131 treatment</th>\n",
       "      <th>query hypothyroid</th>\n",
       "      <th>...</th>\n",
       "      <th>TSH</th>\n",
       "      <th>T3 measured</th>\n",
       "      <th>T3</th>\n",
       "      <th>TT4 measured</th>\n",
       "      <th>TT4</th>\n",
       "      <th>T4U measured</th>\n",
       "      <th>T4U</th>\n",
       "      <th>FTI measured</th>\n",
       "      <th>FTI</th>\n",
       "      <th>label</th>\n",
       "    </tr>\n",
       "  </thead>\n",
       "  <tbody>\n",
       "    <tr>\n",
       "      <th>0</th>\n",
       "      <td>41.0</td>\n",
       "      <td>F</td>\n",
       "      <td>0</td>\n",
       "      <td>0</td>\n",
       "      <td>0</td>\n",
       "      <td>0</td>\n",
       "      <td>0</td>\n",
       "      <td>0</td>\n",
       "      <td>0</td>\n",
       "      <td>0</td>\n",
       "      <td>...</td>\n",
       "      <td>1.30</td>\n",
       "      <td>1</td>\n",
       "      <td>2.5</td>\n",
       "      <td>1</td>\n",
       "      <td>125.0</td>\n",
       "      <td>1</td>\n",
       "      <td>1.14</td>\n",
       "      <td>1</td>\n",
       "      <td>109.0</td>\n",
       "      <td>negative</td>\n",
       "    </tr>\n",
       "    <tr>\n",
       "      <th>1</th>\n",
       "      <td>23.0</td>\n",
       "      <td>F</td>\n",
       "      <td>0</td>\n",
       "      <td>0</td>\n",
       "      <td>0</td>\n",
       "      <td>0</td>\n",
       "      <td>0</td>\n",
       "      <td>0</td>\n",
       "      <td>0</td>\n",
       "      <td>0</td>\n",
       "      <td>...</td>\n",
       "      <td>4.10</td>\n",
       "      <td>1</td>\n",
       "      <td>2.0</td>\n",
       "      <td>1</td>\n",
       "      <td>102.0</td>\n",
       "      <td>0</td>\n",
       "      <td>NaN</td>\n",
       "      <td>0</td>\n",
       "      <td>NaN</td>\n",
       "      <td>negative</td>\n",
       "    </tr>\n",
       "    <tr>\n",
       "      <th>2</th>\n",
       "      <td>46.0</td>\n",
       "      <td>M</td>\n",
       "      <td>0</td>\n",
       "      <td>0</td>\n",
       "      <td>0</td>\n",
       "      <td>0</td>\n",
       "      <td>0</td>\n",
       "      <td>0</td>\n",
       "      <td>0</td>\n",
       "      <td>0</td>\n",
       "      <td>...</td>\n",
       "      <td>0.98</td>\n",
       "      <td>0</td>\n",
       "      <td>NaN</td>\n",
       "      <td>1</td>\n",
       "      <td>109.0</td>\n",
       "      <td>1</td>\n",
       "      <td>0.91</td>\n",
       "      <td>1</td>\n",
       "      <td>120.0</td>\n",
       "      <td>negative</td>\n",
       "    </tr>\n",
       "    <tr>\n",
       "      <th>3</th>\n",
       "      <td>70.0</td>\n",
       "      <td>F</td>\n",
       "      <td>1</td>\n",
       "      <td>0</td>\n",
       "      <td>0</td>\n",
       "      <td>0</td>\n",
       "      <td>0</td>\n",
       "      <td>0</td>\n",
       "      <td>0</td>\n",
       "      <td>0</td>\n",
       "      <td>...</td>\n",
       "      <td>0.16</td>\n",
       "      <td>1</td>\n",
       "      <td>1.9</td>\n",
       "      <td>1</td>\n",
       "      <td>175.0</td>\n",
       "      <td>0</td>\n",
       "      <td>NaN</td>\n",
       "      <td>0</td>\n",
       "      <td>NaN</td>\n",
       "      <td>negative</td>\n",
       "    </tr>\n",
       "    <tr>\n",
       "      <th>4</th>\n",
       "      <td>70.0</td>\n",
       "      <td>F</td>\n",
       "      <td>0</td>\n",
       "      <td>0</td>\n",
       "      <td>0</td>\n",
       "      <td>0</td>\n",
       "      <td>0</td>\n",
       "      <td>0</td>\n",
       "      <td>0</td>\n",
       "      <td>0</td>\n",
       "      <td>...</td>\n",
       "      <td>0.72</td>\n",
       "      <td>1</td>\n",
       "      <td>1.2</td>\n",
       "      <td>1</td>\n",
       "      <td>61.0</td>\n",
       "      <td>1</td>\n",
       "      <td>0.87</td>\n",
       "      <td>1</td>\n",
       "      <td>70.0</td>\n",
       "      <td>negative</td>\n",
       "    </tr>\n",
       "  </tbody>\n",
       "</table>\n",
       "<p>5 rows × 27 columns</p>\n",
       "</div>"
      ],
      "text/plain": [
       "    age sex  on thyroxine  query on thyroxine  on antithyroid medication  \\\n",
       "0  41.0   F             0                   0                          0   \n",
       "1  23.0   F             0                   0                          0   \n",
       "2  46.0   M             0                   0                          0   \n",
       "3  70.0   F             1                   0                          0   \n",
       "4  70.0   F             0                   0                          0   \n",
       "\n",
       "   sick  pregnant  thyroid surgery  I131 treatment  query hypothyroid  ...  \\\n",
       "0     0         0                0               0                  0  ...   \n",
       "1     0         0                0               0                  0  ...   \n",
       "2     0         0                0               0                  0  ...   \n",
       "3     0         0                0               0                  0  ...   \n",
       "4     0         0                0               0                  0  ...   \n",
       "\n",
       "    TSH  T3 measured   T3  TT4 measured    TT4  T4U measured   T4U  \\\n",
       "0  1.30            1  2.5             1  125.0             1  1.14   \n",
       "1  4.10            1  2.0             1  102.0             0   NaN   \n",
       "2  0.98            0  NaN             1  109.0             1  0.91   \n",
       "3  0.16            1  1.9             1  175.0             0   NaN   \n",
       "4  0.72            1  1.2             1   61.0             1  0.87   \n",
       "\n",
       "   FTI measured    FTI     label  \n",
       "0             1  109.0  negative  \n",
       "1             0    NaN  negative  \n",
       "2             1  120.0  negative  \n",
       "3             0    NaN  negative  \n",
       "4             1   70.0  negative  \n",
       "\n",
       "[5 rows x 27 columns]"
      ]
     },
     "execution_count": 22,
     "metadata": {},
     "output_type": "execute_result"
    }
   ],
   "source": [
    "data.head()"
   ]
  },
  {
   "cell_type": "code",
   "execution_count": 23,
   "metadata": {},
   "outputs": [],
   "source": [
    "# Imputing the missing values:\n",
    "from sklearn.impute import SimpleImputer\n",
    "imp = SimpleImputer(missing_values=np.nan, strategy='median')\n",
    "data[numeric_features]=imp.fit_transform(data[numeric_features])"
   ]
  },
  {
   "cell_type": "code",
   "execution_count": 24,
   "metadata": {},
   "outputs": [
    {
     "data": {
      "text/html": [
       "<div>\n",
       "<style scoped>\n",
       "    .dataframe tbody tr th:only-of-type {\n",
       "        vertical-align: middle;\n",
       "    }\n",
       "\n",
       "    .dataframe tbody tr th {\n",
       "        vertical-align: top;\n",
       "    }\n",
       "\n",
       "    .dataframe thead th {\n",
       "        text-align: right;\n",
       "    }\n",
       "</style>\n",
       "<table border=\"1\" class=\"dataframe\">\n",
       "  <thead>\n",
       "    <tr style=\"text-align: right;\">\n",
       "      <th></th>\n",
       "      <th>age</th>\n",
       "      <th>sex</th>\n",
       "      <th>on thyroxine</th>\n",
       "      <th>query on thyroxine</th>\n",
       "      <th>on antithyroid medication</th>\n",
       "      <th>sick</th>\n",
       "      <th>pregnant</th>\n",
       "      <th>thyroid surgery</th>\n",
       "      <th>I131 treatment</th>\n",
       "      <th>query hypothyroid</th>\n",
       "      <th>...</th>\n",
       "      <th>TSH</th>\n",
       "      <th>T3 measured</th>\n",
       "      <th>T3</th>\n",
       "      <th>TT4 measured</th>\n",
       "      <th>TT4</th>\n",
       "      <th>T4U measured</th>\n",
       "      <th>T4U</th>\n",
       "      <th>FTI measured</th>\n",
       "      <th>FTI</th>\n",
       "      <th>label</th>\n",
       "    </tr>\n",
       "  </thead>\n",
       "  <tbody>\n",
       "    <tr>\n",
       "      <th>0</th>\n",
       "      <td>41.0</td>\n",
       "      <td>F</td>\n",
       "      <td>0</td>\n",
       "      <td>0</td>\n",
       "      <td>0</td>\n",
       "      <td>0</td>\n",
       "      <td>0</td>\n",
       "      <td>0</td>\n",
       "      <td>0</td>\n",
       "      <td>0</td>\n",
       "      <td>...</td>\n",
       "      <td>1.30</td>\n",
       "      <td>1</td>\n",
       "      <td>2.5</td>\n",
       "      <td>1</td>\n",
       "      <td>125.0</td>\n",
       "      <td>1</td>\n",
       "      <td>1.14</td>\n",
       "      <td>1</td>\n",
       "      <td>109.0</td>\n",
       "      <td>negative</td>\n",
       "    </tr>\n",
       "    <tr>\n",
       "      <th>1</th>\n",
       "      <td>23.0</td>\n",
       "      <td>F</td>\n",
       "      <td>0</td>\n",
       "      <td>0</td>\n",
       "      <td>0</td>\n",
       "      <td>0</td>\n",
       "      <td>0</td>\n",
       "      <td>0</td>\n",
       "      <td>0</td>\n",
       "      <td>0</td>\n",
       "      <td>...</td>\n",
       "      <td>4.10</td>\n",
       "      <td>1</td>\n",
       "      <td>2.0</td>\n",
       "      <td>1</td>\n",
       "      <td>102.0</td>\n",
       "      <td>0</td>\n",
       "      <td>0.98</td>\n",
       "      <td>0</td>\n",
       "      <td>107.0</td>\n",
       "      <td>negative</td>\n",
       "    </tr>\n",
       "    <tr>\n",
       "      <th>2</th>\n",
       "      <td>46.0</td>\n",
       "      <td>M</td>\n",
       "      <td>0</td>\n",
       "      <td>0</td>\n",
       "      <td>0</td>\n",
       "      <td>0</td>\n",
       "      <td>0</td>\n",
       "      <td>0</td>\n",
       "      <td>0</td>\n",
       "      <td>0</td>\n",
       "      <td>...</td>\n",
       "      <td>0.98</td>\n",
       "      <td>0</td>\n",
       "      <td>2.0</td>\n",
       "      <td>1</td>\n",
       "      <td>109.0</td>\n",
       "      <td>1</td>\n",
       "      <td>0.91</td>\n",
       "      <td>1</td>\n",
       "      <td>120.0</td>\n",
       "      <td>negative</td>\n",
       "    </tr>\n",
       "    <tr>\n",
       "      <th>3</th>\n",
       "      <td>70.0</td>\n",
       "      <td>F</td>\n",
       "      <td>1</td>\n",
       "      <td>0</td>\n",
       "      <td>0</td>\n",
       "      <td>0</td>\n",
       "      <td>0</td>\n",
       "      <td>0</td>\n",
       "      <td>0</td>\n",
       "      <td>0</td>\n",
       "      <td>...</td>\n",
       "      <td>0.16</td>\n",
       "      <td>1</td>\n",
       "      <td>1.9</td>\n",
       "      <td>1</td>\n",
       "      <td>175.0</td>\n",
       "      <td>0</td>\n",
       "      <td>0.98</td>\n",
       "      <td>0</td>\n",
       "      <td>107.0</td>\n",
       "      <td>negative</td>\n",
       "    </tr>\n",
       "    <tr>\n",
       "      <th>4</th>\n",
       "      <td>70.0</td>\n",
       "      <td>F</td>\n",
       "      <td>0</td>\n",
       "      <td>0</td>\n",
       "      <td>0</td>\n",
       "      <td>0</td>\n",
       "      <td>0</td>\n",
       "      <td>0</td>\n",
       "      <td>0</td>\n",
       "      <td>0</td>\n",
       "      <td>...</td>\n",
       "      <td>0.72</td>\n",
       "      <td>1</td>\n",
       "      <td>1.2</td>\n",
       "      <td>1</td>\n",
       "      <td>61.0</td>\n",
       "      <td>1</td>\n",
       "      <td>0.87</td>\n",
       "      <td>1</td>\n",
       "      <td>70.0</td>\n",
       "      <td>negative</td>\n",
       "    </tr>\n",
       "  </tbody>\n",
       "</table>\n",
       "<p>5 rows × 27 columns</p>\n",
       "</div>"
      ],
      "text/plain": [
       "    age sex  on thyroxine  query on thyroxine  on antithyroid medication  \\\n",
       "0  41.0   F             0                   0                          0   \n",
       "1  23.0   F             0                   0                          0   \n",
       "2  46.0   M             0                   0                          0   \n",
       "3  70.0   F             1                   0                          0   \n",
       "4  70.0   F             0                   0                          0   \n",
       "\n",
       "   sick  pregnant  thyroid surgery  I131 treatment  query hypothyroid  ...  \\\n",
       "0     0         0                0               0                  0  ...   \n",
       "1     0         0                0               0                  0  ...   \n",
       "2     0         0                0               0                  0  ...   \n",
       "3     0         0                0               0                  0  ...   \n",
       "4     0         0                0               0                  0  ...   \n",
       "\n",
       "    TSH  T3 measured   T3  TT4 measured    TT4  T4U measured   T4U  \\\n",
       "0  1.30            1  2.5             1  125.0             1  1.14   \n",
       "1  4.10            1  2.0             1  102.0             0  0.98   \n",
       "2  0.98            0  2.0             1  109.0             1  0.91   \n",
       "3  0.16            1  1.9             1  175.0             0  0.98   \n",
       "4  0.72            1  1.2             1   61.0             1  0.87   \n",
       "\n",
       "   FTI measured    FTI     label  \n",
       "0             1  109.0  negative  \n",
       "1             0  107.0  negative  \n",
       "2             1  120.0  negative  \n",
       "3             0  107.0  negative  \n",
       "4             1   70.0  negative  \n",
       "\n",
       "[5 rows x 27 columns]"
      ]
     },
     "execution_count": 24,
     "metadata": {},
     "output_type": "execute_result"
    }
   ],
   "source": [
    "data.head()"
   ]
  },
  {
   "cell_type": "code",
   "execution_count": 25,
   "metadata": {},
   "outputs": [],
   "source": [
    "# Cleaning the sex column:\n",
    "data['sex']=data['sex'].replace('?',np.nan)\n",
    "\n",
    "for i in range(len(data)):\n",
    "    if data.loc[i,'sex']=='F':\n",
    "        data.loc[i,'sex']=0\n",
    "    if data.loc[i,'sex']=='M':\n",
    "        data.loc[i,'sex']=1 "
   ]
  },
  {
   "cell_type": "code",
   "execution_count": 26,
   "metadata": {},
   "outputs": [],
   "source": [
    "data['sex']=imp.fit_transform(data['sex'].values.reshape(-1,1))# impute the missing values "
   ]
  },
  {
   "cell_type": "code",
   "execution_count": 27,
   "metadata": {},
   "outputs": [
    {
     "data": {
      "text/html": [
       "<div>\n",
       "<style scoped>\n",
       "    .dataframe tbody tr th:only-of-type {\n",
       "        vertical-align: middle;\n",
       "    }\n",
       "\n",
       "    .dataframe tbody tr th {\n",
       "        vertical-align: top;\n",
       "    }\n",
       "\n",
       "    .dataframe thead th {\n",
       "        text-align: right;\n",
       "    }\n",
       "</style>\n",
       "<table border=\"1\" class=\"dataframe\">\n",
       "  <thead>\n",
       "    <tr style=\"text-align: right;\">\n",
       "      <th></th>\n",
       "      <th>age</th>\n",
       "      <th>sex</th>\n",
       "      <th>on thyroxine</th>\n",
       "      <th>query on thyroxine</th>\n",
       "      <th>on antithyroid medication</th>\n",
       "      <th>sick</th>\n",
       "      <th>pregnant</th>\n",
       "      <th>thyroid surgery</th>\n",
       "      <th>I131 treatment</th>\n",
       "      <th>query hypothyroid</th>\n",
       "      <th>...</th>\n",
       "      <th>TSH</th>\n",
       "      <th>T3 measured</th>\n",
       "      <th>T3</th>\n",
       "      <th>TT4 measured</th>\n",
       "      <th>TT4</th>\n",
       "      <th>T4U measured</th>\n",
       "      <th>T4U</th>\n",
       "      <th>FTI measured</th>\n",
       "      <th>FTI</th>\n",
       "      <th>label</th>\n",
       "    </tr>\n",
       "  </thead>\n",
       "  <tbody>\n",
       "    <tr>\n",
       "      <th>0</th>\n",
       "      <td>41.0</td>\n",
       "      <td>0.0</td>\n",
       "      <td>0</td>\n",
       "      <td>0</td>\n",
       "      <td>0</td>\n",
       "      <td>0</td>\n",
       "      <td>0</td>\n",
       "      <td>0</td>\n",
       "      <td>0</td>\n",
       "      <td>0</td>\n",
       "      <td>...</td>\n",
       "      <td>1.30</td>\n",
       "      <td>1</td>\n",
       "      <td>2.5</td>\n",
       "      <td>1</td>\n",
       "      <td>125.0</td>\n",
       "      <td>1</td>\n",
       "      <td>1.14</td>\n",
       "      <td>1</td>\n",
       "      <td>109.0</td>\n",
       "      <td>negative</td>\n",
       "    </tr>\n",
       "    <tr>\n",
       "      <th>1</th>\n",
       "      <td>23.0</td>\n",
       "      <td>0.0</td>\n",
       "      <td>0</td>\n",
       "      <td>0</td>\n",
       "      <td>0</td>\n",
       "      <td>0</td>\n",
       "      <td>0</td>\n",
       "      <td>0</td>\n",
       "      <td>0</td>\n",
       "      <td>0</td>\n",
       "      <td>...</td>\n",
       "      <td>4.10</td>\n",
       "      <td>1</td>\n",
       "      <td>2.0</td>\n",
       "      <td>1</td>\n",
       "      <td>102.0</td>\n",
       "      <td>0</td>\n",
       "      <td>0.98</td>\n",
       "      <td>0</td>\n",
       "      <td>107.0</td>\n",
       "      <td>negative</td>\n",
       "    </tr>\n",
       "    <tr>\n",
       "      <th>2</th>\n",
       "      <td>46.0</td>\n",
       "      <td>1.0</td>\n",
       "      <td>0</td>\n",
       "      <td>0</td>\n",
       "      <td>0</td>\n",
       "      <td>0</td>\n",
       "      <td>0</td>\n",
       "      <td>0</td>\n",
       "      <td>0</td>\n",
       "      <td>0</td>\n",
       "      <td>...</td>\n",
       "      <td>0.98</td>\n",
       "      <td>0</td>\n",
       "      <td>2.0</td>\n",
       "      <td>1</td>\n",
       "      <td>109.0</td>\n",
       "      <td>1</td>\n",
       "      <td>0.91</td>\n",
       "      <td>1</td>\n",
       "      <td>120.0</td>\n",
       "      <td>negative</td>\n",
       "    </tr>\n",
       "    <tr>\n",
       "      <th>3</th>\n",
       "      <td>70.0</td>\n",
       "      <td>0.0</td>\n",
       "      <td>1</td>\n",
       "      <td>0</td>\n",
       "      <td>0</td>\n",
       "      <td>0</td>\n",
       "      <td>0</td>\n",
       "      <td>0</td>\n",
       "      <td>0</td>\n",
       "      <td>0</td>\n",
       "      <td>...</td>\n",
       "      <td>0.16</td>\n",
       "      <td>1</td>\n",
       "      <td>1.9</td>\n",
       "      <td>1</td>\n",
       "      <td>175.0</td>\n",
       "      <td>0</td>\n",
       "      <td>0.98</td>\n",
       "      <td>0</td>\n",
       "      <td>107.0</td>\n",
       "      <td>negative</td>\n",
       "    </tr>\n",
       "    <tr>\n",
       "      <th>4</th>\n",
       "      <td>70.0</td>\n",
       "      <td>0.0</td>\n",
       "      <td>0</td>\n",
       "      <td>0</td>\n",
       "      <td>0</td>\n",
       "      <td>0</td>\n",
       "      <td>0</td>\n",
       "      <td>0</td>\n",
       "      <td>0</td>\n",
       "      <td>0</td>\n",
       "      <td>...</td>\n",
       "      <td>0.72</td>\n",
       "      <td>1</td>\n",
       "      <td>1.2</td>\n",
       "      <td>1</td>\n",
       "      <td>61.0</td>\n",
       "      <td>1</td>\n",
       "      <td>0.87</td>\n",
       "      <td>1</td>\n",
       "      <td>70.0</td>\n",
       "      <td>negative</td>\n",
       "    </tr>\n",
       "  </tbody>\n",
       "</table>\n",
       "<p>5 rows × 27 columns</p>\n",
       "</div>"
      ],
      "text/plain": [
       "    age  sex  on thyroxine  query on thyroxine  on antithyroid medication  \\\n",
       "0  41.0  0.0             0                   0                          0   \n",
       "1  23.0  0.0             0                   0                          0   \n",
       "2  46.0  1.0             0                   0                          0   \n",
       "3  70.0  0.0             1                   0                          0   \n",
       "4  70.0  0.0             0                   0                          0   \n",
       "\n",
       "   sick  pregnant  thyroid surgery  I131 treatment  query hypothyroid  ...  \\\n",
       "0     0         0                0               0                  0  ...   \n",
       "1     0         0                0               0                  0  ...   \n",
       "2     0         0                0               0                  0  ...   \n",
       "3     0         0                0               0                  0  ...   \n",
       "4     0         0                0               0                  0  ...   \n",
       "\n",
       "    TSH  T3 measured   T3  TT4 measured    TT4  T4U measured   T4U  \\\n",
       "0  1.30            1  2.5             1  125.0             1  1.14   \n",
       "1  4.10            1  2.0             1  102.0             0  0.98   \n",
       "2  0.98            0  2.0             1  109.0             1  0.91   \n",
       "3  0.16            1  1.9             1  175.0             0  0.98   \n",
       "4  0.72            1  1.2             1   61.0             1  0.87   \n",
       "\n",
       "   FTI measured    FTI     label  \n",
       "0             1  109.0  negative  \n",
       "1             0  107.0  negative  \n",
       "2             1  120.0  negative  \n",
       "3             0  107.0  negative  \n",
       "4             1   70.0  negative  \n",
       "\n",
       "[5 rows x 27 columns]"
      ]
     },
     "execution_count": 27,
     "metadata": {},
     "output_type": "execute_result"
    }
   ],
   "source": [
    "data.head()"
   ]
  },
  {
   "cell_type": "code",
   "execution_count": 28,
   "metadata": {},
   "outputs": [
    {
     "data": {
      "text/plain": [
       "age                          float64\n",
       "sex                          float64\n",
       "on thyroxine                   int32\n",
       "query on thyroxine             int32\n",
       "on antithyroid medication      int32\n",
       "sick                           int32\n",
       "pregnant                       int32\n",
       "thyroid surgery                int32\n",
       "I131 treatment                 int32\n",
       "query hypothyroid              int32\n",
       "query hyperthyroid             int32\n",
       "lithium                        int32\n",
       "goitre                         int32\n",
       "tumor                          int32\n",
       "hypopituitary                  int32\n",
       "psych                          int32\n",
       "TSH measured                   int32\n",
       "TSH                          float64\n",
       "T3 measured                    int32\n",
       "T3                           float64\n",
       "TT4 measured                   int32\n",
       "TT4                          float64\n",
       "T4U measured                   int32\n",
       "T4U                          float64\n",
       "FTI measured                   int32\n",
       "FTI                          float64\n",
       "label                         object\n",
       "dtype: object"
      ]
     },
     "execution_count": 28,
     "metadata": {},
     "output_type": "execute_result"
    }
   ],
   "source": [
    "data.dtypes"
   ]
  },
  {
   "cell_type": "code",
   "execution_count": 29,
   "metadata": {},
   "outputs": [],
   "source": [
    "# Splitting the data to train and test:\n",
    "from sklearn.model_selection import train_test_split\n",
    "\n",
    "features=data.columns.tolist()\n",
    "features.remove('label')\n",
    "X=data[features]\n",
    "y=data['label']\n",
    "\n",
    "X_train, X_test, y_train, y_test = train_test_split(X, y, test_size=0.20,stratify=y,random_state=42)\n",
    "#stratify:If not None, data is split in a stratified fashion, using this as the class labels."
   ]
  },
  {
   "cell_type": "code",
   "execution_count": 30,
   "metadata": {},
   "outputs": [
    {
     "name": "stdout",
     "output_type": "stream",
     "text": [
      "X_train shape: (2240, 26)\n",
      "y_train shape: (2240,)\n",
      "X_test: (560, 26)\n",
      "y_test shape: (560,)\n"
     ]
    }
   ],
   "source": [
    "print('X_train shape:',X_train.shape)\n",
    "print('y_train shape:',y_train.shape)\n",
    "print('X_test:',X_test.shape)\n",
    "print('y_test shape:',y_test.shape)"
   ]
  },
  {
   "cell_type": "markdown",
   "metadata": {},
   "source": [
    "As we have set stratify in train_test_split to y, both of the train and test sets have the same class distribution as the whole data. It means that the relative number of each label in the training set, test set and the whole data is the same."
   ]
  },
  {
   "cell_type": "code",
   "execution_count": 31,
   "metadata": {},
   "outputs": [
    {
     "name": "stdout",
     "output_type": "stream",
     "text": [
      "y_train labels: [['hyperthyroid' 62]\n",
      " ['hypothyroid' 176]\n",
      " ['negative' 2002]]\n"
     ]
    }
   ],
   "source": [
    "(unique, counts) = np.unique(y_train, return_counts=True)\n",
    "frequencies = np.asarray((unique, counts)).T\n",
    "print('y_train labels:',frequencies)"
   ]
  },
  {
   "cell_type": "code",
   "execution_count": 32,
   "metadata": {},
   "outputs": [
    {
     "name": "stdout",
     "output_type": "stream",
     "text": [
      "y_test labels: [['hyperthyroid' 15]\n",
      " ['hypothyroid' 44]\n",
      " ['negative' 501]]\n"
     ]
    }
   ],
   "source": [
    "(unique, counts) = np.unique(y_test, return_counts=True)\n",
    "frequencies = np.asarray((unique, counts)).T\n",
    "print('y_test labels:',frequencies)"
   ]
  },
  {
   "cell_type": "code",
   "execution_count": 33,
   "metadata": {},
   "outputs": [],
   "source": [
    "# Scaling the data:\n",
    "from sklearn.preprocessing import MinMaxScaler\n",
    "scaler = MinMaxScaler()\n",
    "X_train=scaler.fit_transform(X_train)\n",
    "X_test=scaler.transform(X_test)"
   ]
  },
  {
   "cell_type": "code",
   "execution_count": 34,
   "metadata": {},
   "outputs": [],
   "source": [
    "from sklearn import svm\n",
    "svc=svm.SVC()\n",
    "svc.fit(X_train,y_train)\n",
    "y_pred=svc.predict(X_test)"
   ]
  },
  {
   "cell_type": "code",
   "execution_count": 35,
   "metadata": {},
   "outputs": [
    {
     "data": {
      "image/png": "[encoded data removed]",
      "text/plain": [
       "<Figure size 432x288 with 2 Axes>"
      ]
     },
     "metadata": {
      "needs_background": "light"
     },
     "output_type": "display_data"
    }
   ],
   "source": [
    "from sklearn.metrics import confusion_matrix\n",
    "from sklearn.metrics import plot_confusion_matrix\n",
    "plot_confusion_matrix(svc, X_test, y_test,cmap='Greens',normalize='true')\n",
    "plt.show()"
   ]
  },
  {
   "cell_type": "markdown",
   "metadata": {},
   "source": [
    "The SVM training algorithm seeks a line or hyperplane that best separates the classes. The hyperplane is defined by a margin that maximizes the distance between the decision boundary and the closest examples from each of the two classes.\n",
    "When the data is highly imbalanced the svm classifier might perform well in detecting the majority class but poor in detecting the minority. By default,By default, each class has the same weighting. In the case of imbalanced data we should assign different weights to different classes(more weight to the minority class and less to the majority) which can be achieved by playing with the class_weight. "
   ]
  },
  {
   "cell_type": "code",
   "execution_count": 36,
   "metadata": {},
   "outputs": [
    {
     "data": {
      "text/plain": [
       "GridSearchCV(cv=5, estimator=SVC(probability=True), n_jobs=-1,\n",
       "             param_grid={'C': [0.5, 1, 2, 4],\n",
       "                         'class_weight': [{'hyperthyroid': 36.09,\n",
       "                                           'hypothyroid': 12.71,\n",
       "                                           'negative': 1.11},\n",
       "                                          {'hyperthyroid': 1443.6,\n",
       "                                           'hypothyroid': 508.4,\n",
       "                                           'negative': 44.4},\n",
       "                                          {'hyperthyroid': 1804.5,\n",
       "                                           'hypothyroid': 635.5,\n",
       "                                           'negative': 55.5}],\n",
       "                         'degree': [3, 4, 5], 'gamma': ['auto', 'scale'],\n",
       "                         'kernel': ('linear', 'rbf', 'poly')},\n",
       "             scoring=make_scorer(my_custom_f1_scorer))"
      ]
     },
     "execution_count": 36,
     "metadata": {},
     "output_type": "execute_result"
    }
   ],
   "source": [
    "# Selecting the best model:\n",
    "from sklearn.model_selection import GridSearchCV\n",
    "from sklearn.metrics import make_scorer\n",
    "from sklearn.metrics import f1_score\n",
    "\n",
    "svc=svm.SVC(probability=True)#enable probability estimates\n",
    "parameters={'C': [0.5,1,2,4],'class_weight':[{\"hyperthyroid\":36.09,\"hypothyroid\":12.71,\"negative\":1.11},\n",
    "                                             #{\"hyperthyroid\":360.9,\"hypothyroid\":127.1,\"negative\":11.1},\n",
    "                                             #{\"hyperthyroid\":721.8,\"hypothyroid\":254.2,\"negative\":22.2},\n",
    "                                             {\"hyperthyroid\":1443.6,\"hypothyroid\":508.4,\"negative\":44.4},\n",
    "                                             {\"hyperthyroid\":1804.5,\"hypothyroid\":635.5,\"negative\":55.5}],\n",
    "                                              'kernel': ('linear', 'rbf','poly'),'degree':[3,4,5],\n",
    "                                              'gamma':['auto','scale']}\n",
    "# C:Regularization parameter. The strength of the regularization is inversely proportional to C\n",
    "# class_weight: It penalizes mistakes in samples of class[i] with class_weight[i] instead of 1.(by default the weight of all\n",
    "# classes equal to one).So higher class-weight means you want to put more emphasis on a class.\n",
    "# degree: degree of the polynomial kernel function (‘poly’), ignored by all other kernells\n",
    "\n",
    "# define a function to calculate customized f1-score(more weight is assigned to hypo and hyper groups and less to negative)\n",
    "def my_custom_f1_scorer(y,y_pred):\n",
    "    f1=(f1_score(y,y_pred,average=None)*np.array([4,4,1])).sum()/9\n",
    "    return f1\n",
    "f1_scorer= make_scorer(my_custom_f1_scorer,greater_is_better=True)\n",
    "\n",
    "clf = GridSearchCV(svc, parameters,cv=5,scoring=f1_scorer,n_jobs=-1)\n",
    "clf.fit(X_train,y_train)\n"
   ]
  },
  {
   "cell_type": "code",
   "execution_count": 37,
   "metadata": {},
   "outputs": [
    {
     "data": {
      "text/plain": [
       "SVC(C=2,\n",
       "    class_weight={'hyperthyroid': 1804.5, 'hypothyroid': 635.5,\n",
       "                  'negative': 55.5},\n",
       "    degree=4, kernel='poly', probability=True)"
      ]
     },
     "execution_count": 37,
     "metadata": {},
     "output_type": "execute_result"
    }
   ],
   "source": [
    "selected_params=clf.best_params_\n",
    "svc.set_params(**selected_params)"
   ]
  },
  {
   "cell_type": "code",
   "execution_count": 38,
   "metadata": {},
   "outputs": [],
   "source": [
    "svc.fit(X_train,y_train)\n",
    "y_pred=svc.predict(X_test)"
   ]
  },
  {
   "cell_type": "code",
   "execution_count": 39,
   "metadata": {},
   "outputs": [
    {
     "name": "stdout",
     "output_type": "stream",
     "text": [
      "              precision    recall  f1-score   support\n",
      "\n",
      "hyperthyroid       0.56      0.93      0.70        15\n",
      " hypothyroid       0.88      0.86      0.87        44\n",
      "    negative       0.99      0.97      0.98       501\n",
      "\n",
      "    accuracy                           0.96       560\n",
      "   macro avg       0.81      0.92      0.85       560\n",
      "weighted avg       0.97      0.96      0.96       560\n",
      "\n"
     ]
    }
   ],
   "source": [
    "from sklearn.metrics import classification_report\n",
    "target_names=['hyperthyroid','hypothyroid','negative']\n",
    "print(classification_report(y_test, y_pred, target_names=target_names))"
   ]
  },
  {
   "cell_type": "code",
   "execution_count": 40,
   "metadata": {},
   "outputs": [
    {
     "data": {
      "image/png": "[encoded data removed]",
      "text/plain": [
       "<Figure size 432x288 with 2 Axes>"
      ]
     },
     "metadata": {
      "needs_background": "light"
     },
     "output_type": "display_data"
    }
   ],
   "source": [
    "plot_confusion_matrix(svc, X_test, y_test,cmap='Greens',normalize='true')\n",
    "plt.show()"
   ]
  },
  {
   "cell_type": "markdown",
   "metadata": {},
   "source": [
    "The precision-recall curve shows the tradeoff between precision and recall for different threshold. A high area under the curve corresponds to both high recall and high precision.\n",
    "Precision is defined as the number of true positives (Tp) over the number of true positives plus the number of false positives (Fp).\n",
    "Recall is defined as the number of true positives (Tp) over the number of true positives plus the number of false negatives (Fn).\n",
    "\n",
    "High precision relates to a low false positive rate, and high recall relates to a low false negative rate. High scores for both show that the classifier is returning accurate results (high precision), as well as returning a majority of all positive results (high recall).\n",
    "Reducing the threshold increases the false positive rate(Fp)=> precision reduces\n",
    "while increasing it increases the false negative rate(Fn)=> recall reduces"
   ]
  },
  {
   "cell_type": "code",
   "execution_count": 41,
   "metadata": {},
   "outputs": [],
   "source": [
    "ytest=le.fit_transform(y_test)# converting the y_test to numerical values by LabelEncoder\n",
    "ytest=np.eye(3)[ytest]# convert the labels to the onehot format"
   ]
  },
  {
   "cell_type": "code",
   "execution_count": 42,
   "metadata": {},
   "outputs": [],
   "source": [
    "y_score=svc.decision_function(X_test)"
   ]
  },
  {
   "cell_type": "code",
   "execution_count": 43,
   "metadata": {},
   "outputs": [],
   "source": [
    "from sklearn.metrics import precision_recall_curve\n",
    "from sklearn.metrics import average_precision_score\n",
    "precision = dict()\n",
    "recall = dict()\n",
    "average_precision = dict()\n",
    "for i in range(3):\n",
    "    labels=['hyperthyroid','hypothyroid','negative']\n",
    "    precision[i], recall[i], _ = precision_recall_curve(ytest[:, i], y_score[:, i])\n",
    "    average_precision[i] = average_precision_score(ytest[:, i], y_score[:, i])\n",
    "    "
   ]
  },
  {
   "cell_type": "code",
   "execution_count": 44,
   "metadata": {},
   "outputs": [
    {
     "data": {
      "image/png": "[encoded data removed]",
      "text/plain": [
       "<Figure size 432x288 with 1 Axes>"
      ]
     },
     "metadata": {
      "needs_background": "light"
     },
     "output_type": "display_data"
    }
   ],
   "source": [
    "from itertools import cycle\n",
    "colors = cycle(['navy', 'turquoise', 'darkorange', 'cornflowerblue', 'teal'])\n",
    "labels=[]\n",
    "\n",
    "for i, color in zip(range(3), colors):\n",
    "    plt.plot(recall[i], precision[i], color=color, lw=2)\n",
    "    labels.append('Precision-recall for class {0} (area = {1:0.2f})'\n",
    "                  ''.format(i, average_precision[i]))\n",
    "    \n",
    "plt.xlabel('Recall')\n",
    "plt.ylabel('Precision')\n",
    "plt.title('Extension of Precision-Recall curve to multi-class')\n",
    "plt.legend(labels)\n",
    "plt.show()"
   ]
  },
  {
   "cell_type": "code",
   "execution_count": null,
   "metadata": {},
   "outputs": [],
   "source": []
  }
 ],
 "metadata": {
  "kernelspec": {
   "display_name": "Python 3",
   "language": "python",
   "name": "python3"
  },
  "language_info": {
   "codemirror_mode": {
    "name": "ipython",
    "version": 3
   },
   "file_extension": ".py",
   "mimetype": "text/x-python",
   "name": "python",
   "nbconvert_exporter": "python",
   "pygments_lexer": "ipython3",
   "version": "3.7.3"
  }
 },
 "nbformat": 4,
 "nbformat_minor": 2
}
